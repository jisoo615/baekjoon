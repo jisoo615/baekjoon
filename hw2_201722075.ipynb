{
  "nbformat": 4,
  "nbformat_minor": 0,
  "metadata": {
    "colab": {
      "name": "hw2_201722075",
      "provenance": [],
      "collapsed_sections": [],
      "toc_visible": true,
      "authorship_tag": "ABX9TyP48GTPRNcXXnBgolqvD4G9",
      "include_colab_link": true
    },
    "kernelspec": {
      "name": "python3",
      "display_name": "Python 3"
    },
    "language_info": {
      "name": "python"
    }
  },
  "cells": [
    {
      "cell_type": "markdown",
      "metadata": {
        "id": "view-in-github",
        "colab_type": "text"
      },
      "source": [
        "<a href=\"https://colab.research.google.com/github/jisoo615/baekjoon/blob/master/hw2_201722075.ipynb\" target=\"_parent\"><img src=\"https://colab.research.google.com/assets/colab-badge.svg\" alt=\"Open In Colab\"/></a>"
      ]
    },
    {
      "cell_type": "markdown",
      "metadata": {
        "id": "bjTxKp3U6gx4"
      },
      "source": [
        "2주차 수업\n",
        "# 1장 알고리즘 기초 \n",
        "*   알고리즘이란 - 최댓값, 중앙값, 조건문"
      ]
    },
    {
      "cell_type": "code",
      "metadata": {
        "colab": {
          "base_uri": "https://localhost:8080/"
        },
        "id": "Cpa6XElsP7PL",
        "cellView": "code",
        "outputId": "46c26790-aa79-4a6c-8847-e26eb8b1b46f"
      },
      "source": [
        "#최댓값\n",
        "a = int(input())\n",
        "b = int(input())\n",
        "c = int(input())\n",
        "maximum = a\n",
        "if b > maximum:\n",
        "    maximum = b\n",
        "if c > maximum:\n",
        "    maximum = c\n",
        "print(f'최대값은 {maximum} 입니다')"
      ],
      "execution_count": null,
      "outputs": [
        {
          "output_type": "stream",
          "name": "stdout",
          "text": [
            "5\n",
            "6\n",
            "2\n",
            "최대값은 6 입니다\n"
          ]
        }
      ]
    },
    {
      "cell_type": "code",
      "metadata": {
        "colab": {
          "base_uri": "https://localhost:8080/"
        },
        "id": "A4bj0d7k5pCG",
        "outputId": "4f0dbfcb-267d-4c21-b3cb-ebc11cbbae3f"
      },
      "source": [
        "def max3(a, b, c):\n",
        "    maximum = a\n",
        "    if b > maximum:\n",
        "        maximum = b\n",
        "    if c > maximum:\n",
        "        maximum = c\n",
        "    return maximum\n",
        "\n",
        "maximum1 = max3(3, 1, 6)\n",
        "maximum2 = max(4, 7, 11)\n",
        "print(f'최대값은 {maximum1} 입니다')\n",
        "print(f'최댓값은 {maximum2} 입니다')"
      ],
      "execution_count": null,
      "outputs": [
        {
          "output_type": "stream",
          "name": "stdout",
          "text": [
            "최대값은 6 입니다\n",
            "최댓값은 11 입니다\n"
          ]
        }
      ]
    },
    {
      "cell_type": "code",
      "metadata": {
        "colab": {
          "base_uri": "https://localhost:8080/"
        },
        "id": "Onh_i4bR8XMz",
        "outputId": "db3ee948-f3c4-4a26-9d98-a6173e6dec07"
      },
      "source": [
        "#중앙값\n",
        "def med3(a, b, c):\n",
        "  if a>b:\n",
        "    if b<c:\n",
        "      return b\n",
        "    elif a<=c:\n",
        "      return a\n",
        "    else:\n",
        "      return c\n",
        "  \n",
        "  elif a>c:\n",
        "    return a;\n",
        "  elif b>c:\n",
        "    return c\n",
        "  else:\n",
        "    return b\n",
        "\n",
        "def med4(a,b,c):\n",
        "  if(b>=a and c<=a ) or (b<=a and c>=a):\n",
        "    return a;\n",
        "  elif(a>b and c<b) or (a<b and c>b):\n",
        "   return b\n",
        "  return c\n",
        "\n",
        "a = int(input(\"a입력하세요: \"))\n",
        "b = int(input(\"b입력하세요: \"))\n",
        "c = int(input(\"c입력하세요: \"))\n",
        "print(f'med3 : 세 수 {a},{b},{c}중 중앙값은 {med3(a, b, c)}입니다')\n",
        "print(f'med4 : 세 수 {a},{b},{c}중 중앙값은 {med3(a, b, c)}입니다')"
      ],
      "execution_count": null,
      "outputs": [
        {
          "output_type": "stream",
          "name": "stdout",
          "text": [
            "a입력하세요: 5\n",
            "b입력하세요: 8\n",
            "c입력하세요: 7\n",
            "med3 : 세 수 5,8,7중 중앙값은 7입니다\n",
            "med4 : 세 수 5,8,7중 중앙값은 7입니다\n"
          ]
        }
      ]
    },
    {
      "cell_type": "markdown",
      "metadata": {
        "id": "iDDXZKHy_pfT"
      },
      "source": [
        "*a와 b의 비교를 이미 마친 상태에서 또다시 비교하는 것은 효율적이지 않다.*\n",
        "\n",
        "med3 보다 med4의 효율이 더 좋지 않다. \n",
        "\n",
        "med4는 \n",
        "if(***b>=a*** and c<=a ) or (***b<=a*** and c>=a)\n",
        "\n",
        "의 ***b>=a***, ***b<=a*** 와 반대되는 \n",
        "\n",
        "elif(***a>b*** and c<b) or (***a<b*** and c>b)\n",
        "\n",
        "의 ***a>b***, ***a<b***  판단을 (if문이 거짓일때) 수행할 필요가 없는데 수행하기 떄문이다. \n"
      ]
    },
    {
      "cell_type": "code",
      "metadata": {
        "colab": {
          "base_uri": "https://localhost:8080/"
        },
        "id": "edaaaHkB9soj",
        "outputId": "bc977895-5b85-44f9-aeff-0d54a0173791"
      },
      "source": [
        "#조건문과 분기\n",
        "#양수 음수 0 판별\n",
        "n = int(input(\"정수 판별 n: \"))\n",
        "if n>0:\n",
        "  print(\"양수\")\n",
        "elif n<0:\n",
        "  print(\"음수\")\n",
        "else:\n",
        "  print(\"0입니다\")\n",
        "\n",
        "x = int(input(\"A,B,C 판별 x: \"))\n",
        "if x==1:\n",
        "  print(\"A\")\n",
        "elif x==2:\n",
        "  print(\"B\")\n",
        "elif x==3:\n",
        "  print(\"C\")\n",
        "else:\n",
        "  pass\n",
        "\n"
      ],
      "execution_count": null,
      "outputs": [
        {
          "output_type": "stream",
          "name": "stdout",
          "text": [
            "정수 판별 n: 0\n",
            "0입니다\n",
            "A,B,C 판별 x: 3\n",
            "C\n"
          ]
        }
      ]
    },
    {
      "cell_type": "markdown",
      "metadata": {
        "id": "hqayJgNfFhL6"
      },
      "source": [
        "# 1장 알고리즘 기초 \n",
        "*   반복하는 알고리즘\n",
        "\n",
        "> 사전 판단 반복 구조(while, for) , 사후 판단 반복 구조(do while :파이썬에 없음)\n",
        "\n",
        "\n",
        "> 합구 하기, 값 교환하기, 반복문 내 조건 판단\n",
        "\n",
        "\n",
        "\n"
      ]
    },
    {
      "cell_type": "code",
      "metadata": {
        "id": "rekLTx6JFrcB",
        "colab": {
          "base_uri": "https://localhost:8080/"
        },
        "outputId": "598eec21-0147-4f7e-9ae2-e0b0fcb29c02"
      },
      "source": [
        "#1부터 n까지 정수의 합 구하기 \n",
        "#while문\n",
        "n = int(input(\"n값을 입력하시오 : \"))\n",
        "sum=0\n",
        "i=1\n",
        "while i<=n:\n",
        "  sum += i\n",
        "  i += 1\n",
        "\n",
        "print(f'while문 -> 1부터 {n}까지의 정수의 합은 {sum}이다.')\n",
        "\n",
        "#for문\n",
        "sum2 = 0\n",
        "for i in range(1, n+1):#range(a, b)의 범위는 a부터 b-1까지의 숫자다.\n",
        "  sum2 += i\n",
        "\n",
        "print(f'for문 -> 1부터 {n}까지의 정수의 합은 {sum2}이다. ')\n",
        "print(\"--------------------------\")\n",
        "#a와 b까지의 연속된 정수의 합\n",
        "a, b = map(int, input('두 수 사이의 합을 구할 a와 b를 입력하세요.: ').split() )\n",
        "sum3 = 0\n",
        "for i in range(a, b+1):\n",
        "  sum3 += i\n",
        "\n",
        "print(f'{a}부터 {b}까지의 정수의 합은 {sum3}이다. ')"
      ],
      "execution_count": 8,
      "outputs": [
        {
          "output_type": "stream",
          "name": "stdout",
          "text": [
            "n값을 입력하시오 : 10\n",
            "while문 -> 1부터 10까지의 정수의 합은 55이다.\n",
            "for문 -> 1부터 10까지의 정수의 합은 55이다. \n",
            "--------------------------\n",
            "두 수 사이의 합을 구할 a와 b를 입력하세요.: 3 6\n",
            "3부터 6까지의 정수의 합은 18이다. \n"
          ]
        }
      ]
    },
    {
      "cell_type": "code",
      "metadata": {
        "colab": {
          "base_uri": "https://localhost:8080/"
        },
        "id": "oTKcgBuSr85L",
        "outputId": "bf8d1ef0-e77b-4e93-f964-f3d769d55a82"
      },
      "source": [
        "#두 값 교환하기\n",
        "#단일 대입문\n",
        "a = 5\n",
        "b = 10\n",
        "a, b = b, a\n",
        "print(f'a는 5-> {a}로, b는 10-> {b}로 바뀌었다.')\n",
        "\n",
        "#임시변수 사용\n",
        "x = 3\n",
        "y = 7\n",
        "\n",
        "t = x\n",
        "x = y\n",
        "y = t\n",
        "print(f'x는 3-> {x}로, y는 7-> {y}로 바뀌었다.')\n"
      ],
      "execution_count": 10,
      "outputs": [
        {
          "output_type": "stream",
          "name": "stdout",
          "text": [
            "a는 5-> 10로, b는 10-> 5로 바뀌었다.\n",
            "x는 3-> 7로, y는 7-> 3로 바뀌었다.\n"
          ]
        }
      ]
    },
    {
      "cell_type": "markdown",
      "metadata": {
        "id": "J2MdaEJq0oDZ"
      },
      "source": [
        "\n",
        "\n",
        "---\n",
        "\n"
      ]
    },
    {
      "cell_type": "code",
      "metadata": {
        "colab": {
          "base_uri": "https://localhost:8080/"
        },
        "id": "BwAF2Hkcuvhz",
        "outputId": "ff446445-d0fd-47ec-bfe9-28ba2892fbc3"
      },
      "source": [
        "#반복 과정에서 조건 판단\n",
        "#a와 b까지의 합을 식으로 표현 ex) 1 + 2 + 3 + 4 + 5 = 15\n",
        "a, b = map(int, input('a와 b를 입력하세요 : ').split())\n",
        "if a > b:\n",
        "  a, b = b, a\n",
        "\n",
        "sum = 0\n",
        "for i in range(a, b+1):\n",
        "  if i < b:\n",
        "    print(f'{i} + ', end=\" \") #end=\" \"를 해주면 다음줄로 넘어가지 않고 해당 줄 옆에 프린트 됨\n",
        "  else:\n",
        "    print(f'{i} = ', end=\" \") #마지막에\n",
        "  \n",
        "  sum += i\n",
        "\n",
        "print(sum)\n",
        "\n"
      ],
      "execution_count": 13,
      "outputs": [
        {
          "output_type": "stream",
          "name": "stdout",
          "text": [
            "a와 b를 입력하세요 : 1 10\n",
            "1 +  2 +  3 +  4 +  5 +  6 +  7 +  8 +  9 +  10 =  55\n"
          ]
        }
      ]
    },
    {
      "cell_type": "markdown",
      "metadata": {
        "id": "eVhDnsBTzGyK"
      },
      "source": [
        "위 방법은 조건문을 n-1번 반복해야만 한다. 그래서 a ~ b-1까지 구하고 b만 for문 밖에서 더해주는 방법을 사용할 수 있다. (아래)"
      ]
    },
    {
      "cell_type": "code",
      "metadata": {
        "colab": {
          "base_uri": "https://localhost:8080/"
        },
        "id": "XClObnACzs5i",
        "outputId": "91836e5d-652c-4042-ea43-3c3535f8bccd"
      },
      "source": [
        "a, b = map(int, input('a와 b를 입력하세요 : ').split())\n",
        "if a > b:\n",
        "  a, b = b, a\n",
        "\n",
        "sum = 0\n",
        "for i in range(a, b): #b-1까지\n",
        "  if i < b:\n",
        "    print(f'{i} + ', end=\" \") #end=\" \"를 해주면 다음줄로 넘어가지 않고 해당 줄 옆에 프린트 됨\n",
        "   \n",
        "  sum += i\n",
        "\n",
        "sum += b\n",
        "print(f'+ {b} = {sum}')"
      ],
      "execution_count": 15,
      "outputs": [
        {
          "output_type": "stream",
          "name": "stdout",
          "text": [
            "a와 b를 입력하세요 : 1 5\n",
            "1 +  2 +  3 +  4 +  + 5 = 15\n"
          ]
        }
      ]
    },
    {
      "cell_type": "markdown",
      "metadata": {
        "id": "hF_mIpv40spo"
      },
      "source": [
        "\n",
        "\n",
        "---\n",
        "\n"
      ]
    },
    {
      "cell_type": "code",
      "metadata": {
        "colab": {
          "base_uri": "https://localhost:8080/"
        },
        "id": "T_8mchPB0RFa",
        "outputId": "5c8899a9-9111-4b31-d6f5-11d516ad7df7"
      },
      "source": [
        "#특정 문자를 줄바꿈 없이 번갈아가며 출력하는 프로그램\n",
        "#+와 -를 n번 번갈아 출력 + - + - + - + -\n",
        "\n",
        "n = int(input('+와 - 순서대로 몇번을 반복할까요? '))\n",
        "print('[1]')\n",
        "for i in range(n): #0 ~ n-1\n",
        "  if i%2:\n",
        "    print('-', end='')\n",
        "  else:\n",
        "    print('+', end='')\n",
        "\n",
        "print()\n",
        "\n",
        "\n",
        "\n",
        "#더 효율적인 방법-반으로 줄임\n",
        "print('[2]')\n",
        "\n",
        "for i in range(n//2): # //는 몫을 반환한다, \n",
        "  print('+-', end='')\n",
        "\n",
        "if n%2 :#홀수 였다면\n",
        "  print('+')#맨 뒤에 플러스 추가 \n",
        "\n",
        "\n",
        "#특수문자를 n번 출력하되, w개마다 줄바꿈하는 프로그램\n",
        "# *****\n",
        "# *****\n",
        "# ****\n",
        "print('[3]')\n",
        "n = int(input('*을 몇개 출력할까요? '))\n",
        "w = int(input('몇 개마다 줄바꿈을 할까요?'))\n",
        "\n",
        "for i in range(n):\n",
        "  print('*', end='')\n",
        "  if i%w == w-1:  #0~n-1까지라서 나머지가 w-1이면 w로 나눠떨어짐\n",
        "    print()\n",
        "\n",
        "if n%w: # n%w > 0\n",
        "  print()# w로 나눠떨어지지 않으면 줄바꿈 추가\n"
      ],
      "execution_count": 23,
      "outputs": [
        {
          "output_type": "stream",
          "name": "stdout",
          "text": [
            "+와 - 순서대로 몇번을 반복할까요? 15\n",
            "[1]\n",
            "+-+-+-+-+-+-+-+\n",
            "[2]\n",
            "+-+-+-+-+-+-+-+\n",
            "[3]\n",
            "*을 몇개 출력할까요? 18\n",
            "몇 개마다 줄바꿈을 할까요?5\n",
            "*****\n",
            "*****\n",
            "*****\n",
            "***\n"
          ]
        }
      ]
    }
  ]
}