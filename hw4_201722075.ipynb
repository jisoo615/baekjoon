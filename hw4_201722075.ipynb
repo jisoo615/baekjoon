{
  "nbformat": 4,
  "nbformat_minor": 0,
  "metadata": {
    "colab": {
      "name": "hw4_201722075.ipynb",
      "provenance": [],
      "collapsed_sections": [],
      "toc_visible": true,
      "authorship_tag": "ABX9TyNIDqk10tQmLPmluZ4JLaB6",
      "include_colab_link": true
    },
    "kernelspec": {
      "name": "python3",
      "display_name": "Python 3"
    },
    "language_info": {
      "name": "python"
    }
  },
  "cells": [
    {
      "cell_type": "markdown",
      "metadata": {
        "id": "view-in-github",
        "colab_type": "text"
      },
      "source": [
        "<a href=\"https://colab.research.google.com/github/jisoo615/baekjoon/blob/master/hw4_201722075.ipynb\" target=\"_parent\"><img src=\"https://colab.research.google.com/assets/colab-badge.svg\" alt=\"Open In Colab\"/></a>"
      ]
    },
    {
      "cell_type": "markdown",
      "metadata": {
        "id": "JQxx3ybvmh09"
      },
      "source": [
        "# 배열"
      ]
    },
    {
      "cell_type": "markdown",
      "metadata": {
        "id": "WS7XbG1izMut"
      },
      "source": [
        "## 최댓값 구하기"
      ]
    },
    {
      "cell_type": "code",
      "metadata": {
        "id": "4NjEnf7ImbGV"
      },
      "source": [
        "#배열 원소 3개 일때\n",
        "list = [1, 2, 3, 4]\n",
        "maximum = list[0]\n",
        "if a[1] > maximum: maximum = a[1]\n",
        "if a[2] > maximum: maximum = a[2]\n",
        "if a[3] > maximum: maximum = a[3]\n",
        "\n",
        "#배열 원소개 n개 일때\n",
        "maximum = list[0]\n",
        "for i in range(1, n):\n",
        "  if maximum < list[i]:\n",
        "    maxinum = list[i]\n",
        "\n",
        "\n",
        "#최댓값 구하는 함수-  순회한다(scan)\n",
        "def max_of(a):\n",
        "  maximum = a[0]\n",
        "  for i in range(1, len(a)):\n",
        "    if maximum < a[i]:\n",
        "      maximum = a[i]"
      ],
      "execution_count": null,
      "outputs": []
    },
    {
      "cell_type": "markdown",
      "metadata": {
        "id": "ALCUcYHeomhw"
      },
      "source": [
        "### 타입 어노테이션 (타입 힌트)\n",
        "\n",
        "Sequence : 시퀀스형(리스트, 튜플, 문자열 등 순서있는 자료형)\n",
        "\n",
        "Any : 제약이 없는 임의의 자료형\n",
        "\n",
        "MutableSequence : 수정 가능한 자료형\n",
        "\n",
        "None : 반환값이 없음"
      ]
    },
    {
      "cell_type": "code",
      "metadata": {
        "colab": {
          "base_uri": "https://localhost:8080/"
        },
        "id": "37qdjjnJn_tH",
        "outputId": "e2583368-3d43-4365-b20e-1450ed97053b"
      },
      "source": [
        "#최댓값 구하는 함수 \n",
        "# 배열 a의 원소값을 변경하지 않음.\n",
        "#비교 연산자 > 로 값을 비교할 수 있다면  int형 float형이 섞여 있어도 된다. \n",
        "#최댓값 원소가 int형 원소이면 int형 반환, float형이면 float형 반환. \n",
        "\n",
        "#아래 코드를 max이름의 파일로 같은 폴더내에 생성해뒀음.\n",
        "from typing import Any, Sequence\n",
        "\n",
        "def max_of(a : Sequence) -> Any :\n",
        "  \"\"\"시퀀스형 a원소의 최댓값을 아무거나 반환\"\"\"\n",
        "  maximum = a[0]\n",
        "  for i in range(1, len(a)):\n",
        "    if maximum < a[i]:\n",
        "      maximum = a[i]\n",
        "  return maximum\n",
        "\n",
        "if __name__ == '__main__':\n",
        "  print('배열의 최댓값을 구합니다.')\n",
        "  num = int(input('원소 수를 입력하세요.: '))\n",
        "  x = [None] * num\n",
        "\n",
        "  for i in range(num):\n",
        "    x[i] = int(input(f'x[{i}]의 값을 입력하세요: '))\n",
        "  print(f'최댓값은 {max_of(x)} 입니다,')"
      ],
      "execution_count": null,
      "outputs": [
        {
          "output_type": "stream",
          "name": "stdout",
          "text": [
            "배열의 최댓값을 구합니다.\n",
            "원소 수를 입력하세요.: 10\n",
            "x[0]의 값을 입력하세요: 2\n",
            "x[1]의 값을 입력하세요: 3\n",
            "x[2]의 값을 입력하세요: 5\n",
            "x[3]의 값을 입력하세요: 6\n",
            "x[4]의 값을 입력하세요: 2\n",
            "x[5]의 값을 입력하세요: 88\n",
            "x[6]의 값을 입력하세요: 5\n",
            "x[7]의 값을 입력하세요: 4\n",
            "x[8]의 값을 입력하세요: 99\n",
            "x[9]의 값을 입력하세요: 33\n",
            "최댓값은 99 입니다,\n"
          ]
        }
      ]
    },
    {
      "cell_type": "markdown",
      "metadata": {
        "id": "OvpTKTlcrHnZ"
      },
      "source": [
        "### 재사용할 수 있는 모듈 작성\n",
        "\n",
        " 모듈(module)\n",
        " * 하나의 파이썬 스크립트 프로그램\n",
        " * 확장자(.py)를 제외한 파일 이름자체를 모듈 이름으로 사용\n",
        "\n",
        "\n",
        "\n",
        "```\n",
        " if __name__ == '__main__'\n",
        "```\n",
        "  * _ _name_ _ : 모듈 이름변수\n",
        "  * 스크립트 프로그램이 직접 실행 될 때 '_ _main_ _'을 가지며, 임포트 되는 경우 원래 모듈 이름을 가짐. \n",
        "  * 모듈은 프로그램이 처음 임포트 되는 시점에서 모듈 객체가 생성되며 초기화되는 구조.\n"
      ]
    },
    {
      "cell_type": "markdown",
      "metadata": {
        "id": "n9tNHUAYvGu8"
      },
      "source": [
        "import_ipynb 라이브러리 설치"
      ]
    },
    {
      "cell_type": "code",
      "metadata": {
        "colab": {
          "base_uri": "https://localhost:8080/"
        },
        "id": "0-Qh9L56kIXt",
        "outputId": "a2486a1b-b276-4aeb-c991-ec522842d84a"
      },
      "source": [
        "!pip install import_ipynb"
      ],
      "execution_count": null,
      "outputs": [
        {
          "output_type": "stream",
          "name": "stdout",
          "text": [
            "Collecting import_ipynb\n",
            "  Downloading import-ipynb-0.1.3.tar.gz (4.0 kB)\n",
            "Building wheels for collected packages: import-ipynb\n",
            "  Building wheel for import-ipynb (setup.py) ... \u001b[?25l\u001b[?25hdone\n",
            "  Created wheel for import-ipynb: filename=import_ipynb-0.1.3-py3-none-any.whl size=2975 sha256=8dd57b2f94c7126929806a518cdb50424a805f8e5c7a8beb9b4fe6b5b3ac2b93\n",
            "  Stored in directory: /root/.cache/pip/wheels/b1/5e/dc/79780689896a056199b0b9f24471e3ee184fbd816df355d5f0\n",
            "Successfully built import-ipynb\n",
            "Installing collected packages: import-ipynb\n",
            "Successfully installed import-ipynb-0.1.3\n"
          ]
        }
      ]
    },
    {
      "cell_type": "markdown",
      "metadata": {
        "id": "G-DF2zrDvLpO"
      },
      "source": [
        "코랩 가상 서버와 구글 드라이브 마운트"
      ]
    },
    {
      "cell_type": "code",
      "metadata": {
        "colab": {
          "base_uri": "https://localhost:8080/"
        },
        "id": "-5PE_4GYkYQg",
        "outputId": "275833af-5269-4c47-c682-4f413dc37adb"
      },
      "source": [
        "from google.colab import drive\n",
        "drive.mount('/content/gdrive')"
      ],
      "execution_count": null,
      "outputs": [
        {
          "output_type": "stream",
          "name": "stdout",
          "text": [
            "Mounted at /content/gdrive\n"
          ]
        }
      ]
    },
    {
      "cell_type": "markdown",
      "metadata": {
        "id": "CMeDjMFAuzaU"
      },
      "source": [
        "임포트할 모듈 스크립트 파일이 있는 폴더로 이동 (내가 쓰는 작업 폴더로 이동)\n",
        "매직명령어 %"
      ]
    },
    {
      "cell_type": "code",
      "metadata": {
        "colab": {
          "base_uri": "https://localhost:8080/"
        },
        "id": "I23II_-9tcNh",
        "outputId": "92c54815-a338-4fe9-bddd-cc93508193ad"
      },
      "source": [
        "%cd /content/gdrive/MyDrive/Colab\\ Notebooks/algorithm_2021_2"
      ],
      "execution_count": null,
      "outputs": [
        {
          "output_type": "stream",
          "name": "stdout",
          "text": [
            "/content/gdrive/MyDrive/Colab Notebooks/algorithm_2021_2\n"
          ]
        }
      ]
    },
    {
      "cell_type": "code",
      "metadata": {
        "id": "kq2lbUunugPK"
      },
      "source": [
        "import import_ipynb"
      ],
      "execution_count": null,
      "outputs": []
    },
    {
      "cell_type": "code",
      "metadata": {
        "colab": {
          "base_uri": "https://localhost:8080/"
        },
        "id": "f70WlpSFsYcj",
        "outputId": "ce4a4371-d17c-4c47-bc1a-91a9509bba5f"
      },
      "source": [
        "#max이름의 파일을 같은 폴더내에 생성해뒀음.\n",
        "from max import max_of\n",
        "\n",
        "print(\"배열의 최댓값을 구합니다.\")\n",
        "print('주의 : \"End\" 를 입력하면 종료')\n",
        "\n",
        "number = 0\n",
        "x = []\n",
        "\n",
        "while True:\n",
        "  s = input(f'x[{number}] 값을 입력하세요 : ')\n",
        "  if s== \"End\":\n",
        "    break\n",
        "  x.append(int(s))\n",
        "  number += 1\n",
        "\n",
        "print(f'{number}개 입력함')\n",
        "print(f'최댓값은 {max_of(x)} 입니다.')"
      ],
      "execution_count": null,
      "outputs": [
        {
          "output_type": "stream",
          "name": "stdout",
          "text": [
            "배열의 최댓값을 구합니다.\n",
            "주의 : \"End\" 를 입력하면 종료\n",
            "x[0] 값을 입력하세요 : 3\n",
            "x[1] 값을 입력하세요 : 4\n",
            "x[2] 값을 입력하세요 : 7\n",
            "x[3] 값을 입력하세요 : 2\n",
            "x[4] 값을 입력하세요 : 9\n",
            "x[5] 값을 입력하세요 : 5\n",
            "x[6] 값을 입력하세요 : 4\n",
            "x[7] 값을 입력하세요 : 2\n",
            "x[8] 값을 입력하세요 : End\n",
            "8개 입력함\n",
            "최댓값은 9 입니다.\n"
          ]
        }
      ]
    },
    {
      "cell_type": "markdown",
      "metadata": {
        "id": "1D1cOtcmxOuY"
      },
      "source": [
        "### 배열의 원솟값을 난수로 결정하기\n",
        "배열의 원소 개수, 최댓값, 최솟값은 입력받고 그 사이에서 난수로 배열 구성\n"
      ]
    },
    {
      "cell_type": "code",
      "metadata": {
        "colab": {
          "base_uri": "https://localhost:8080/"
        },
        "id": "bneiSN0YxiOq",
        "outputId": "f7521389-9b65-4792-816a-49db8c561d5c"
      },
      "source": [
        "import random\n",
        "from max import max_of\n",
        "\n",
        "print(f'난수의 최댓값을 구합니다')\n",
        "num = int(input('난수의 개수 : '))\n",
        "lo = int(input('난수의 최솟값 : '))\n",
        "hi = int(input('난수의 최댓값 : '))\n",
        "x = [None] * num\n",
        "\n",
        "for i in range(num):\n",
        "  x[i] = random.randint(lo, hi)\n",
        "\n",
        "print(f'{(x)}')\n",
        "print(f'이 가운데 최댓값은 {max_of(x)} 입니다.')"
      ],
      "execution_count": null,
      "outputs": [
        {
          "output_type": "stream",
          "name": "stdout",
          "text": [
            "난수의 최댓값을 구합니다\n",
            "난수의 개수 : 10\n",
            "난수의 최솟값 : 5\n",
            "난수의 최댓값 : 50\n",
            "[37, 43, 20, 41, 48, 46, 21, 31, 21, 48]\n",
            "이 가운데 최댓값은 48 입니다.\n"
          ]
        }
      ]
    },
    {
      "cell_type": "code",
      "metadata": {
        "colab": {
          "base_uri": "https://localhost:8080/"
        },
        "id": "HrzBjxTIyfun",
        "outputId": "8a7b8a79-de76-4a23-be82-7a15ada54168"
      },
      "source": [
        "#튜플 문자열 문자열 리스트의 최댓값\n",
        "\n",
        "from max import max_of\n",
        "\n",
        "t = (1, 5, 7, 2, 3.14, 6, 9.0, 2.18)\n",
        "s = 'String'\n",
        "a = ['DTS', 'AAC', 'FLAC']\n",
        "\n",
        "print(f'{t}의 최댓값은 {max_of(t)}')\n",
        "print(f'{s}의 최댓값은 {max_of(s)}')\n",
        "print(f'{a}의 최댓값은 {max_of(a)}')"
      ],
      "execution_count": null,
      "outputs": [
        {
          "output_type": "stream",
          "name": "stdout",
          "text": [
            "(1, 5, 7, 2, 3.14, 6, 9.0, 2.18)의 최댓값은 9.0\n",
            "String의 최댓값은 t\n",
            "['DTS', 'AAC', 'FLAC']의 최댓값은 FLAC\n"
          ]
        }
      ]
    },
    {
      "cell_type": "markdown",
      "metadata": {
        "id": "xmduWiNSzH1u"
      },
      "source": [
        "##  배열 원소를 역순으로 정렬하는 알고리즘\n",
        "\n"
      ]
    },
    {
      "cell_type": "code",
      "metadata": {
        "colab": {
          "base_uri": "https://localhost:8080/"
        },
        "id": "39fDF56Uza5K",
        "outputId": "52aaf275-5b2c-4c62-af9c-b4f6d6462402"
      },
      "source": [
        "#맨 앞과 맨 끝을 교환 -> 총 교환 횟수 = 원소개수//2\n",
        "a = [1, 4, 2, 7, 9, 8, 3]\n",
        "n = len(x)\n",
        "for i in range(n//2):\n",
        "  a[i], a[n-i-1] = a[n-i-1], a[i]\n",
        "\n",
        "print(a)"
      ],
      "execution_count": null,
      "outputs": [
        {
          "output_type": "stream",
          "name": "stdout",
          "text": [
            "[3, 8, 9, 7, 2, 4, 1]\n"
          ]
        }
      ]
    },
    {
      "cell_type": "code",
      "metadata": {
        "colab": {
          "base_uri": "https://localhost:8080/"
        },
        "id": "EUkKqmOe02gI",
        "outputId": "347fb1e7-94e0-446c-f693-c5a12e496f12"
      },
      "source": [
        "#역순 정렬 함수\n",
        "#파일이름 reverse\n",
        "from typing import MutableSequence, Any\n",
        "\n",
        "def reverse_array(a : MutableSequence) -> None:\n",
        "  n = len(a)\n",
        "  for i in range(n//2):\n",
        "    6\n",
        "    7a[i], a[n-i-1] = a[n-i-1], a[i]\n",
        "\n",
        "if __name__ == '__main__':\n",
        "  print('배열 원소 역순으로 정리한다')\n",
        "  nx = int(input('원소 개수 입력 : '))\n",
        "  x = [None] * nx\n",
        "\n",
        "  for i in range(nx):\n",
        "    x[i] = int(input(f'x[{i}]의 값 입력 : ')) \n",
        "\n",
        "  reverse_array(x)\n",
        "\n",
        "  print('배열 원소를 역순으로 정렬했습니다.')\n",
        "  for i in range(nx):\n",
        "    print(f'x[{i}] = {x[i]}')"
      ],
      "execution_count": null,
      "outputs": [
        {
          "output_type": "stream",
          "name": "stdout",
          "text": [
            "배열 원소 역순으로 정리한다\n",
            "원소 개수 입력 : 6\n",
            "x[0]의 값 입력 : 7\n",
            "x[1]의 값 입력 : 2\n",
            "x[2]의 값 입력 : 5\n",
            "x[3]의 값 입력 : 1\n",
            "x[4]의 값 입력 : 3\n",
            "x[5]의 값 입력 : 9\n",
            "배열 원소를 역순으로 정렬했습니다.\n",
            "x[0] = 9\n",
            "x[1] = 3\n",
            "x[2] = 1\n",
            "x[3] = 5\n",
            "x[4] = 2\n",
            "x[5] = 7\n"
          ]
        }
      ]
    },
    {
      "cell_type": "markdown",
      "metadata": {
        "id": "07Q-QqcF2wb7"
      },
      "source": [
        "### reverse() reversed()\n",
        "\n",
        "\n",
        "\n",
        "*   reverse()\n",
        "자기 자신을 역순으로 정렬 list형의 reverse()함수\n",
        "\n",
        "\n",
        "```\n",
        "x.reverse()\n",
        "```\n",
        "\n",
        "\n",
        "*   reversed()\n",
        "원소를 역순으로 꺼내는 반복자(이터레이터) 반환\n",
        "list()함수의 인자로 reversed()함수의 반환 객체를 사용\n",
        "\n",
        "\n",
        "```\n",
        "y = list(reversed(x))\n",
        "```\n",
        "\n",
        "\n"
      ]
    },
    {
      "cell_type": "markdown",
      "metadata": {
        "id": "vDzAUyj93mLh"
      },
      "source": [
        "## 기수 변환\n",
        " 기수 = 수를 나타내는데 기초가 되는 수\n",
        "\n",
        "\n",
        " 8진수\n",
        "\n",
        " 기수 : 0, 1, 2, 3, 4, 5, 6, 7\n",
        "\n",
        " 5306 = 5x8^3 + 3x8^2 + 0x8^1 + 6x8^0\n",
        "\n",
        "\n",
        "정수를 n으로 나눈 나머지를 구하는 동시에 몫을 반복해서 나눔.\n",
        "몫이 0이 될 때까지 과정을 반복한 후 나머지를 역순으로 늘어놓아 기수로 변환한 수를 얻음.\n"
      ]
    },
    {
      "cell_type": "code",
      "metadata": {
        "colab": {
          "base_uri": "https://localhost:8080/"
        },
        "id": "951PpnCo5LPO",
        "outputId": "5f8079dd-2e5f-4415-b549-87cf15b83f49"
      },
      "source": [
        "#10진수를 입력받아, 2~36진수로 변환하여 출력\n",
        "\n",
        "def card_conv(x:int, r:int)->str:\n",
        "\n",
        "  d = ''#변환 후의 문자열\n",
        "  dchar = '0123456789ABCDEFGHIJKLMNOPQRSTUVWXYZ'\n",
        "\n",
        "  while x>0:\n",
        "    d += dchar[x % r]\n",
        "    x //= r\n",
        "\n",
        "  return d[::-1] #역순 반환\n",
        "\n",
        "\n",
        "if __name__ == '__main__':\n",
        "  print('10진수를 n 진수로 변환합니다')\n",
        "\n",
        "  while True:\n",
        "    while True:\n",
        "      no = int(input('변환할 값으로 음이 아닌 정수를 입력해라 : '))\n",
        "      if no > 0:\n",
        "        break\n",
        "\n",
        "    while True:\n",
        "      cd = int(input('어떤 진수로 변환할까요? '))\n",
        "      if( 2<= cd <=36):\n",
        "        break;\n",
        "\n",
        "    print(f'{cd}진수로는 {card_conv(no, cd)}입니다.')\n",
        "\n",
        "    retry = input(\"한 번 더 변환할까요?(Y ---예 / N ---아니요) : \")\n",
        "    if retry in {'n', 'N'}:\n",
        "      break"
      ],
      "execution_count": null,
      "outputs": [
        {
          "name": "stdout",
          "output_type": "stream",
          "text": [
            "10진수를 n 진수로 변환합니다\n",
            "변환할 값으로 음이 아닌 정수를 입력해라 : 29\n",
            "어떤 진수로 변환할까요? 2\n",
            "2진수로는 11101입니다.\n",
            "한 번 더 변환할까요?(Y ---예 / N ---아니요) : 3\n",
            "변환할 값으로 음이 아닌 정수를 입력해라 : 29\n",
            "어떤 진수로 변환할까요? 3\n",
            "3진수로는 1002입니다.\n",
            "한 번 더 변환할까요?(Y ---예 / N ---아니요) : n\n"
          ]
        }
      ]
    },
    {
      "cell_type": "code",
      "metadata": {
        "colab": {
          "base_uri": "https://localhost:8080/"
        },
        "id": "8zqAn3Gv7vrR",
        "outputId": "a4c6c145-7088-4c7e-ca3d-8c00098894dd"
      },
      "source": [
        "#기수 변환과정도 출력\n",
        "def card_conv_process(x:int, r:int)->str:\n",
        "  d=''\n",
        "  dchar = '0123456789ABCDEFGHIJKLMNOPQRSTUVWXYZ'\n",
        "  n - len(str(x))\n",
        "\n",
        "  print(f'{r:2} | {x}')\n",
        "  while x>0:\n",
        "    if x//r : \n",
        "      print(f'{r:2} | { x // r} ~~~ {x%r}')\n",
        "    else:\n",
        "      print(f'     { x // r} ~~~ {x%r}')\n",
        "    d += dchar[x%r]\n",
        "    x //= r\n",
        "\n",
        "  return d[::-1]\n",
        "\n",
        "\n",
        "if __name__ == '__main__':\n",
        "  print('10진수를 n 진수로 변환합니다')\n",
        "\n",
        "  while True:\n",
        "    x = int(input('변환할 값으로 음이 아닌 정수를 입력해라 : '))\n",
        "    if x > 0:\n",
        "      break\n",
        "\n",
        "  while True:\n",
        "    r = int(input('어떤 진수로 변환할까요? '))\n",
        "    if( 2<= r <=36):\n",
        "      break;\n",
        "\n",
        "  print(card_conv_process(x, r))"
      ],
      "execution_count": null,
      "outputs": [
        {
          "output_type": "stream",
          "name": "stdout",
          "text": [
            "10진수를 n 진수로 변환합니다\n",
            "변환할 값으로 음이 아닌 정수를 입력해라 : 29\n",
            "어떤 진수로 변환할까요? 2\n",
            " 2 | 29\n",
            " 2 | 14 ~~~ 1\n",
            " 2 | 7 ~~~ 0\n",
            " 2 | 3 ~~~ 1\n",
            " 2 | 1 ~~~ 1\n",
            "     0 ~~~ 1\n",
            "11101\n"
          ]
        }
      ]
    },
    {
      "cell_type": "markdown",
      "metadata": {
        "id": "qbQhEjkCArV8"
      },
      "source": [
        "## 소수 나열하기\n",
        "\n",
        "**소수(Prime numer)**\n",
        "\n",
        "자신과 1 이외의 자연수로 나누어 떨어지지 않는 자연수\n",
        "2부터 (n-1)까지 어떤 자연수로도 나누어 떨어지지 않는 수n.\n",
        "\n",
        "**합성수(Composite number)**\n",
        "1보다 큰 자연수 중 소수가 아닌 수"
      ]
    },
    {
      "cell_type": "code",
      "metadata": {
        "colab": {
          "base_uri": "https://localhost:8080/"
        },
        "id": "nvX_jMASAq28",
        "outputId": "db902443-cfbb-43f3-a89f-9dc0ec0c2745"
      },
      "source": [
        "#1000 이하의 모든 소수 나열하기\n",
        "\n",
        "counter = 0\n",
        "for n in range(2, 1001):\n",
        "  for i in range(2, n):\n",
        "    counter += 1\n",
        "    if n%i == 0:\n",
        "      break\n",
        "  else:\n",
        "      print(n)\n",
        "print(f'나눗셈을 실행한 횟수: {counter}')\n"
      ],
      "execution_count": null,
      "outputs": [
        {
          "output_type": "stream",
          "name": "stdout",
          "text": [
            "2\n",
            "3\n",
            "5\n",
            "7\n",
            "11\n",
            "13\n",
            "17\n",
            "19\n",
            "23\n",
            "29\n",
            "31\n",
            "37\n",
            "41\n",
            "43\n",
            "47\n",
            "53\n",
            "59\n",
            "61\n",
            "67\n",
            "71\n",
            "73\n",
            "79\n",
            "83\n",
            "89\n",
            "97\n",
            "101\n",
            "103\n",
            "107\n",
            "109\n",
            "113\n",
            "127\n",
            "131\n",
            "137\n",
            "139\n",
            "149\n",
            "151\n",
            "157\n",
            "163\n",
            "167\n",
            "173\n",
            "179\n",
            "181\n",
            "191\n",
            "193\n",
            "197\n",
            "199\n",
            "211\n",
            "223\n",
            "227\n",
            "229\n",
            "233\n",
            "239\n",
            "241\n",
            "251\n",
            "257\n",
            "263\n",
            "269\n",
            "271\n",
            "277\n",
            "281\n",
            "283\n",
            "293\n",
            "307\n",
            "311\n",
            "313\n",
            "317\n",
            "331\n",
            "337\n",
            "347\n",
            "349\n",
            "353\n",
            "359\n",
            "367\n",
            "373\n",
            "379\n",
            "383\n",
            "389\n",
            "397\n",
            "401\n",
            "409\n",
            "419\n",
            "421\n",
            "431\n",
            "433\n",
            "439\n",
            "443\n",
            "449\n",
            "457\n",
            "461\n",
            "463\n",
            "467\n",
            "479\n",
            "487\n",
            "491\n",
            "499\n",
            "503\n",
            "509\n",
            "521\n",
            "523\n",
            "541\n",
            "547\n",
            "557\n",
            "563\n",
            "569\n",
            "571\n",
            "577\n",
            "587\n",
            "593\n",
            "599\n",
            "601\n",
            "607\n",
            "613\n",
            "617\n",
            "619\n",
            "631\n",
            "641\n",
            "643\n",
            "647\n",
            "653\n",
            "659\n",
            "661\n",
            "673\n",
            "677\n",
            "683\n",
            "691\n",
            "701\n",
            "709\n",
            "719\n",
            "727\n",
            "733\n",
            "739\n",
            "743\n",
            "751\n",
            "757\n",
            "761\n",
            "769\n",
            "773\n",
            "787\n",
            "797\n",
            "809\n",
            "811\n",
            "821\n",
            "823\n",
            "827\n",
            "829\n",
            "839\n",
            "853\n",
            "857\n",
            "859\n",
            "863\n",
            "877\n",
            "881\n",
            "883\n",
            "887\n",
            "907\n",
            "911\n",
            "919\n",
            "929\n",
            "937\n",
            "941\n",
            "947\n",
            "953\n",
            "967\n",
            "971\n",
            "977\n",
            "983\n",
            "991\n",
            "997\n",
            "나눗셈을 실행한 횟수: 78022\n"
          ]
        }
      ]
    },
    {
      "cell_type": "markdown",
      "metadata": {
        "id": "aciUlfs2Ew6r"
      },
      "source": [
        "###소수 나열 알고리즘 개선하기(1)\n",
        "\n",
        "1. 지금까지 구한 소수를 배열의 원소로 저장\n",
        "\n",
        "2. n이 소수인지 판단할 때 배열에 저장된 소수로 나눗셈 함\n",
        "\n",
        "3. 숫자를 3부터 시작해 2씩 증가하며 소수 여부 판단.\n",
        "\n",
        "\n",
        "\n",
        "---\n",
        "\n",
        "속도는 개선하였으나 메모리를 희생함. 배열크기 500인 리스트 (2k)\n",
        "상황에 맞춰서 메모리 공간과 속도를 고려해 선택해야"
      ]
    },
    {
      "cell_type": "code",
      "metadata": {
        "colab": {
          "base_uri": "https://localhost:8080/"
        },
        "id": "XuNQ_3qoFJKF",
        "outputId": "d5e5d902-db7a-45d5-f283-db66cc7f4429"
      },
      "source": [
        "#소수 나열 개선(1)\n",
        "counter = 0\n",
        "ptr = 0 #이미 찾은 소수의 개수\n",
        "prime = [None]*500\n",
        "\n",
        "prime[ptr] = 2\n",
        "ptr += 1\n",
        "\n",
        "for n in range(3, 1001, 2):\n",
        "  for i in range(1, ptr):\n",
        "    counter += 1\n",
        "    if(n%prime[i] ==0):\n",
        "      break\n",
        "  else:\n",
        "    prime[ptr] = n\n",
        "    ptr += 1\n",
        "\n",
        "for i in range(ptr):\n",
        "  print(prime[i])\n",
        "print(f'나눗셈을 실행한 횟수 : {counter}')\n"
      ],
      "execution_count": null,
      "outputs": [
        {
          "output_type": "stream",
          "name": "stdout",
          "text": [
            "2\n",
            "3\n",
            "5\n",
            "7\n",
            "11\n",
            "13\n",
            "17\n",
            "19\n",
            "23\n",
            "29\n",
            "31\n",
            "37\n",
            "41\n",
            "43\n",
            "47\n",
            "53\n",
            "59\n",
            "61\n",
            "67\n",
            "71\n",
            "73\n",
            "79\n",
            "83\n",
            "89\n",
            "97\n",
            "101\n",
            "103\n",
            "107\n",
            "109\n",
            "113\n",
            "127\n",
            "131\n",
            "137\n",
            "139\n",
            "149\n",
            "151\n",
            "157\n",
            "163\n",
            "167\n",
            "173\n",
            "179\n",
            "181\n",
            "191\n",
            "193\n",
            "197\n",
            "199\n",
            "211\n",
            "223\n",
            "227\n",
            "229\n",
            "233\n",
            "239\n",
            "241\n",
            "251\n",
            "257\n",
            "263\n",
            "269\n",
            "271\n",
            "277\n",
            "281\n",
            "283\n",
            "293\n",
            "307\n",
            "311\n",
            "313\n",
            "317\n",
            "331\n",
            "337\n",
            "347\n",
            "349\n",
            "353\n",
            "359\n",
            "367\n",
            "373\n",
            "379\n",
            "383\n",
            "389\n",
            "397\n",
            "401\n",
            "409\n",
            "419\n",
            "421\n",
            "431\n",
            "433\n",
            "439\n",
            "443\n",
            "449\n",
            "457\n",
            "461\n",
            "463\n",
            "467\n",
            "479\n",
            "487\n",
            "491\n",
            "499\n",
            "503\n",
            "509\n",
            "521\n",
            "523\n",
            "541\n",
            "547\n",
            "557\n",
            "563\n",
            "569\n",
            "571\n",
            "577\n",
            "587\n",
            "593\n",
            "599\n",
            "601\n",
            "607\n",
            "613\n",
            "617\n",
            "619\n",
            "631\n",
            "641\n",
            "643\n",
            "647\n",
            "653\n",
            "659\n",
            "661\n",
            "673\n",
            "677\n",
            "683\n",
            "691\n",
            "701\n",
            "709\n",
            "719\n",
            "727\n",
            "733\n",
            "739\n",
            "743\n",
            "751\n",
            "757\n",
            "761\n",
            "769\n",
            "773\n",
            "787\n",
            "797\n",
            "809\n",
            "811\n",
            "821\n",
            "823\n",
            "827\n",
            "829\n",
            "839\n",
            "853\n",
            "857\n",
            "859\n",
            "863\n",
            "877\n",
            "881\n",
            "883\n",
            "887\n",
            "907\n",
            "911\n",
            "919\n",
            "929\n",
            "937\n",
            "941\n",
            "947\n",
            "953\n",
            "967\n",
            "971\n",
            "977\n",
            "983\n",
            "991\n",
            "997\n",
            "나눗셈을 실행한 횟수 : 14622\n"
          ]
        }
      ]
    },
    {
      "cell_type": "markdown",
      "metadata": {
        "id": "IVvW9CumGXXo"
      },
      "source": [
        "### 소수 나열 알고리즘 개선하기(2)\n",
        "\n",
        "\n",
        "정사각형 한 변의 길이만 나눗셈을 시도하고 그 과정에서 한번도 나누어 떨어지지 않으면 소수라고 판단 가능.\n",
        "\n",
        "**n의 제곱근 이하의 어떤 소수로도 나누어 떨어지지 않으면 자연수 n은 소수다**\n",
        "\n",
        "\n",
        "---\n",
        "\n",
        "\n",
        "```\n",
        "while prime[i]*prime[i] <= n:\n",
        "```\n",
        "prime[i]가 n의 제곱근보다 작은지 판단(제곱근 연산이 곱셈보다 느림)\n",
        "\n",
        "\n",
        "```\n",
        "counter += 2\n",
        "```\n",
        "\n",
        "\n",
        "나눗셈 비용 외에 곱셈 비용 소모-(나눗셈 비용=곱셈비용)\n"
      ]
    },
    {
      "cell_type": "code",
      "metadata": {
        "colab": {
          "base_uri": "https://localhost:8080/"
        },
        "id": "lk3t3R_MG6DG",
        "outputId": "d87a2aac-6695-48e9-cb6d-6b461af55a66"
      },
      "source": [
        "#소수 나열 알고리즘 개선(2)\n",
        "counter = 0\n",
        "ptr = 0\n",
        "prime = [None]*500\n",
        "\n",
        "prime[ptr] = 2\n",
        "ptr += 1\n",
        "\n",
        "prime[ptr] = 3\n",
        "ptr += 1\n",
        "\n",
        "for n in range(5, 1001, 2): #홀수만 대상으로\n",
        "  i = 1\n",
        "  while prime[i]*prime[i] <= n:\n",
        "    counter += 2\n",
        "    if n % prime[i] == 0: #나누어 떨어지므로 소수가 아님\n",
        "      break\n",
        "    i += 1\n",
        "  else:                    #끝까지 나누어 떨어지지 않았다면 \n",
        "    prime[ptr] = n         #소수를 배열에 등록\n",
        "    ptr += 1\n",
        "    counter += 1\n",
        "\n",
        "\n",
        "for i in range(ptr):\n",
        "  print(prime[i])\n",
        "print(f'나눗셈을 실행한 횟수 : {counter}')\n",
        "  "
      ],
      "execution_count": null,
      "outputs": [
        {
          "output_type": "stream",
          "name": "stdout",
          "text": [
            "2\n",
            "3\n",
            "5\n",
            "7\n",
            "11\n",
            "13\n",
            "17\n",
            "19\n",
            "23\n",
            "29\n",
            "31\n",
            "37\n",
            "41\n",
            "43\n",
            "47\n",
            "53\n",
            "59\n",
            "61\n",
            "67\n",
            "71\n",
            "73\n",
            "79\n",
            "83\n",
            "89\n",
            "97\n",
            "101\n",
            "103\n",
            "107\n",
            "109\n",
            "113\n",
            "127\n",
            "131\n",
            "137\n",
            "139\n",
            "149\n",
            "151\n",
            "157\n",
            "163\n",
            "167\n",
            "173\n",
            "179\n",
            "181\n",
            "191\n",
            "193\n",
            "197\n",
            "199\n",
            "211\n",
            "223\n",
            "227\n",
            "229\n",
            "233\n",
            "239\n",
            "241\n",
            "251\n",
            "257\n",
            "263\n",
            "269\n",
            "271\n",
            "277\n",
            "281\n",
            "283\n",
            "293\n",
            "307\n",
            "311\n",
            "313\n",
            "317\n",
            "331\n",
            "337\n",
            "347\n",
            "349\n",
            "353\n",
            "359\n",
            "367\n",
            "373\n",
            "379\n",
            "383\n",
            "389\n",
            "397\n",
            "401\n",
            "409\n",
            "419\n",
            "421\n",
            "431\n",
            "433\n",
            "439\n",
            "443\n",
            "449\n",
            "457\n",
            "461\n",
            "463\n",
            "467\n",
            "479\n",
            "487\n",
            "491\n",
            "499\n",
            "503\n",
            "509\n",
            "521\n",
            "523\n",
            "541\n",
            "547\n",
            "557\n",
            "563\n",
            "569\n",
            "571\n",
            "577\n",
            "587\n",
            "593\n",
            "599\n",
            "601\n",
            "607\n",
            "613\n",
            "617\n",
            "619\n",
            "631\n",
            "641\n",
            "643\n",
            "647\n",
            "653\n",
            "659\n",
            "661\n",
            "673\n",
            "677\n",
            "683\n",
            "691\n",
            "701\n",
            "709\n",
            "719\n",
            "727\n",
            "733\n",
            "739\n",
            "743\n",
            "751\n",
            "757\n",
            "761\n",
            "769\n",
            "773\n",
            "787\n",
            "797\n",
            "809\n",
            "811\n",
            "821\n",
            "823\n",
            "827\n",
            "829\n",
            "839\n",
            "853\n",
            "857\n",
            "859\n",
            "863\n",
            "877\n",
            "881\n",
            "883\n",
            "887\n",
            "907\n",
            "911\n",
            "919\n",
            "929\n",
            "937\n",
            "941\n",
            "947\n",
            "953\n",
            "967\n",
            "971\n",
            "977\n",
            "983\n",
            "991\n",
            "997\n",
            "나눗셈을 실행한 횟수 : 3774\n"
          ]
        }
      ]
    },
    {
      "cell_type": "markdown",
      "metadata": {
        "id": "gE1DGiWdJ9JO"
      },
      "source": [
        "# 리스트와 튜플(6)"
      ]
    },
    {
      "cell_type": "code",
      "metadata": {
        "colab": {
          "base_uri": "https://localhost:8080/"
        },
        "id": "PBqthi9FBjLP",
        "outputId": "a1913bfd-5abe-4e18-c783-272be4ffc257"
      },
      "source": [
        "#동일성 판단\n",
        "#따로 따로 생성한 리스트나 튜플일 경우 다른 식별번호를 가짐\n",
        "list1 = [1, 2, 3, 4, 5]\n",
        "list2 = [1, 2, 3, 4, 5]\n",
        "print(list1 is list2)\n",
        "\n",
        "#참조하는 곳이 복사됨 -> 원소를 list1에서 바꿔도 list2도 같이 바뀜\n",
        "list2 = list1\n",
        "print(list1 is list2)\n",
        "\n",
        "list1[3] = 9\n",
        "print(list1)\n",
        "print(list2)\n",
        "print()\n",
        "#그래서 위처럼 다 안바뀌게 하려면 copy()써야함\n",
        "list2 = list1.copy()\n",
        "list2[4] = 100\n",
        "print(list1)\n",
        "print(list2)"
      ],
      "execution_count": 6,
      "outputs": [
        {
          "output_type": "stream",
          "name": "stdout",
          "text": [
            "False\n",
            "True\n",
            "[1, 2, 3, 9, 5]\n",
            "[1, 2, 3, 9, 5]\n",
            "\n",
            "[1, 2, 3, 9, 5]\n",
            "[1, 2, 3, 9, 100]\n"
          ]
        }
      ]
    },
    {
      "cell_type": "markdown",
      "metadata": {
        "id": "0aWOgs9zDe2-"
      },
      "source": [
        "## 리스트(튜플) 스캔\n",
        "\n",
        "* 문자열, 리스트, 튜플, 집합, 딕셔너리 등의 자료형 객체는 모두 이터러블 객체임\n",
        "* 이터러블:\n",
        "\n",
        "\n",
        "> 이터러블 객체를 내장함수 iter()의 인수로 전달하면, 반복자를 반환하며, \n",
        "\n",
        "> 반복자의 __next__ 속성이나 next()함수의 인수로 전달하여 원소를 순차저으로 꺼냄\n",
        "\n",
        "\n"
      ]
    },
    {
      "cell_type": "code",
      "metadata": {
        "colab": {
          "base_uri": "https://localhost:8080/"
        },
        "id": "uEQsg819B_PZ",
        "outputId": "b32d24a2-b6fd-4259-fc04-ffedf3d664c1"
      },
      "source": [
        "x = ['john', 'george', 'paul', 'ringo']\n",
        "for i in range(len(x)):\n",
        "  print(f'x[{i}] = {x[i]}')"
      ],
      "execution_count": 8,
      "outputs": [
        {
          "output_type": "stream",
          "name": "stdout",
          "text": [
            "x[0] = john\n",
            "x[1] = george\n",
            "x[2] = paul\n",
            "x[3] = ringo\n"
          ]
        }
      ]
    },
    {
      "cell_type": "markdown",
      "metadata": {
        "id": "EzbhQ_t_E5Gw"
      },
      "source": [
        "열거형 객체 enumerate(리스트 튜플...)\n",
        "\n",
        "index와 값을 동시에 반환한다. "
      ]
    },
    {
      "cell_type": "code",
      "metadata": {
        "colab": {
          "base_uri": "https://localhost:8080/"
        },
        "id": "jNO-guBlEhio",
        "outputId": "69321d39-9f5e-4940-d393-edfc86572374"
      },
      "source": [
        "#리스트의 모든 원소를 enumerate()함수로 스캔하기\n",
        "x = ['John', 'George', 'Paul', 'Ringo']\n",
        "\n",
        "for i, name in enumerate(x):\n",
        "  print(f'x[{i}] = {name}')\n"
      ],
      "execution_count": 9,
      "outputs": [
        {
          "output_type": "stream",
          "name": "stdout",
          "text": [
            "x[0] = John\n",
            "x[1] = George\n",
            "x[2] = Paul\n",
            "x[3] = Ringo\n"
          ]
        }
      ]
    },
    {
      "cell_type": "code",
      "metadata": {
        "colab": {
          "base_uri": "https://localhost:8080/"
        },
        "id": "Z-YsT2AFFSu4",
        "outputId": "a117ce83-6e7f-4045-a645-dc99f0a1625c"
      },
      "source": [
        "#리스트의 모든 원소를 enumerate()함수로 스캔하기(1부터 카운트)\n",
        "x = ['John', 'George', 'Paul', 'Ringo']\n",
        "#0부터가 아니라 1이 시작이 됨\n",
        "for i, name in enumerate(x, 1):\n",
        "  print(f'{i}번째 =  {name}')"
      ],
      "execution_count": 11,
      "outputs": [
        {
          "output_type": "stream",
          "name": "stdout",
          "text": [
            "1번째 =  John\n",
            "2번째 =  George\n",
            "3번째 =  Paul\n",
            "4번째 =  Ringo\n"
          ]
        }
      ]
    },
    {
      "cell_type": "code",
      "metadata": {
        "colab": {
          "base_uri": "https://localhost:8080/"
        },
        "id": "0zLM52BjF46j",
        "outputId": "ab08bcbe-4c79-44ed-d844-fbe33216a1d0"
      },
      "source": [
        "#인덱스값 사용하지 않고\n",
        "for i in x:\n",
        "  print(i)"
      ],
      "execution_count": 12,
      "outputs": [
        {
          "output_type": "stream",
          "name": "stdout",
          "text": [
            "John\n",
            "George\n",
            "Paul\n",
            "Ringo\n"
          ]
        }
      ]
    },
    {
      "cell_type": "markdown",
      "metadata": {
        "id": "aGgD6mNkGATf"
      },
      "source": [
        "## 함수 사이에 인수 주고 받기\n",
        "\n",
        "* 객체 참조에 의한 전달 call by object reference (이뮤터블 일때-튜플)\n",
        "\n",
        "함수의 실행 시작 시점에 매개변수는 실제 인수와 같은 객체를 참조\n",
        "\n",
        "* 인수가 이뮤터블 일때\n",
        "> 함수 안애서 매개변수의 값을 변경하면 다른 객체를 생성하고, 그 객체에 대한 참조로 업데이트 하며, 호출하는 쪽의 실제 인수에 영향을 주지 않음\n",
        "\n",
        "* 인수가 뮤터블 일때\n",
        "> 함수 안에서 매개변수의 값을 변경하면 객체 자체를 업데이트하며, 호출하는 쪽의 실제 인수도 값이 변경"
      ]
    },
    {
      "cell_type": "code",
      "metadata": {
        "colab": {
          "base_uri": "https://localhost:8080/"
        },
        "id": "zy0I3WSPHdTc",
        "outputId": "34afe45f-06a6-4523-d4d4-33b7a4a61d5b"
      },
      "source": [
        "#뮤터블-리스트 에서 업데이트\n",
        "\n",
        "def change(list, idx, val):\n",
        "  list[idx] = val\n",
        "\n",
        "x = [11, 22, 33, 44, 55]\n",
        "print('x = ', x)\n",
        "\n",
        "index = int(input('업데이트할 인덱스 : '))\n",
        "value = int(input('새로운 값을 입력하세요 : '))\n",
        "\n",
        "change(x, index, value)\n",
        "print(f'x = {x}')"
      ],
      "execution_count": 13,
      "outputs": [
        {
          "output_type": "stream",
          "name": "stdout",
          "text": [
            "x =  [11, 22, 33, 44, 55]\n",
            "업데이트할 인덱스 : 2\n",
            "새로운 값을 입력하세요 : 99\n",
            "x = [11, 22, 99, 44, 55]\n"
          ]
        }
      ]
    },
    {
      "cell_type": "markdown",
      "metadata": {
        "id": "GL-aHNcYIIbL"
      },
      "source": [
        "### 리스트(튜플)의 원소 자료형을 미리 지정할 필요가 없음.\n",
        "\n",
        "파이썬에서 변수는 객체와 연결된 이름에 불과하기 때문이다. "
      ]
    },
    {
      "cell_type": "code",
      "metadata": {
        "colab": {
          "base_uri": "https://localhost:8080/"
        },
        "id": "cxa8IKeTIXUP",
        "outputId": "e3a9825f-8cd0-4134-9b3a-1283d4e9af88"
      },
      "source": [
        "x = [15, 63, 3.14, [32, 55], 'ABC']\n",
        "for i in range(len(x)):\n",
        "  print(f'x[{i}] = {x[i]}')"
      ],
      "execution_count": 15,
      "outputs": [
        {
          "output_type": "stream",
          "name": "stdout",
          "text": [
            "x[0] = 15\n",
            "x[1] = 63\n",
            "x[2] = 3.14\n",
            "x[3] = [32, 55]\n",
            "x[4] = ABC\n"
          ]
        }
      ]
    },
    {
      "cell_type": "markdown",
      "metadata": {
        "id": "QistJLGYI3nz"
      },
      "source": [
        "## 리스트의 복사\n",
        "\n",
        "\n",
        "\n",
        "*   얕은 복사  copy()\n",
        "> 객체가 갖는 멤버의 값을 새로운 객체로 복사할 때 객체가 참조 자료형의 멤버를 포함할 경우\n",
        "\n",
        "  > 리스트는 별도로 생성하지만, 참조값만 복사하여 그 내용이 같음\n",
        "  \n",
        "  >x가 참조하는 곳이 다르면 y도 함께 달라짐\n",
        "*   갚은 복사  deepcopy() --id가 다름\n",
        "> 참조값 뿐만 아니라 참조하는 객체 자체를 재귀적으로 복사함\n",
        "\n",
        "  > 객체가 갖는 모든 멤버(값과 참조 형식 모두)를 복사하여 전체 복사라고도 함\n",
        "\n"
      ]
    },
    {
      "cell_type": "code",
      "metadata": {
        "colab": {
          "base_uri": "https://localhost:8080/"
        },
        "id": "NRprBB5NJoYf",
        "outputId": "7792e59b-c247-46b4-a01a-a06bdb0a3f86"
      },
      "source": [
        "#shallow copy\n",
        "x = [[1, 2, 3], [4, 5, 6]]\n",
        "y = x.copy()\n",
        "\n",
        "x[0][1] = 9\n",
        "print(x)\n",
        "print(y)"
      ],
      "execution_count": 16,
      "outputs": [
        {
          "output_type": "stream",
          "name": "stdout",
          "text": [
            "[[1, 9, 3], [4, 5, 6]]\n",
            "[[1, 9, 3], [4, 5, 6]]\n"
          ]
        }
      ]
    },
    {
      "cell_type": "code",
      "metadata": {
        "colab": {
          "base_uri": "https://localhost:8080/"
        },
        "id": "3aDlrzifJ9kJ",
        "outputId": "76f7e4fe-e839-48e0-d5e9-3a7820c7ed5d"
      },
      "source": [
        "#deep copy\n",
        "import copy\n",
        "x = [[1, 2, 3], [4, 5, 6]]\n",
        "y = copy.deepcopy(x)\n",
        "\n",
        "x[0][1] = 9\n",
        "\n",
        "print(x)\n",
        "print(y)"
      ],
      "execution_count": 17,
      "outputs": [
        {
          "output_type": "stream",
          "name": "stdout",
          "text": [
            "[[1, 9, 3], [4, 5, 6]]\n",
            "[[1, 2, 3], [4, 5, 6]]\n"
          ]
        }
      ]
    }
  ]
}