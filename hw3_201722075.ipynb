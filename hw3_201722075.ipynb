{
  "nbformat": 4,
  "nbformat_minor": 0,
  "metadata": {
    "colab": {
      "name": "hw3_201722075.ipynb",
      "provenance": [],
      "collapsed_sections": [],
      "toc_visible": true,
      "authorship_tag": "ABX9TyNnMTItDiMS3C0AhIchNJe1",
      "include_colab_link": true
    },
    "kernelspec": {
      "name": "python3",
      "display_name": "Python 3"
    },
    "language_info": {
      "name": "python"
    }
  },
  "cells": [
    {
      "cell_type": "markdown",
      "metadata": {
        "id": "view-in-github",
        "colab_type": "text"
      },
      "source": [
        "<a href=\"https://colab.research.google.com/github/jisoo615/baekjoon/blob/master/hw3_201722075.ipynb\" target=\"_parent\"><img src=\"https://colab.research.google.com/assets/colab-badge.svg\" alt=\"Open In Colab\"/></a>"
      ]
    },
    {
      "cell_type": "markdown",
      "metadata": {
        "id": "LeN75tnGSrNc"
      },
      "source": [
        "# 자료구조와 배열\n",
        "\n",
        "\n",
        "*   리스트 list\n",
        "*   튜플 tuple\n",
        "\n"
      ]
    },
    {
      "cell_type": "markdown",
      "metadata": {
        "id": "gxa0_bgGTIEy"
      },
      "source": [
        "**자료구조**\n",
        "\n",
        "컴퓨터에서 처리해야 할 많은 데이터를 효율적으로 관리하고 구조화 하는데 필요하다. 데이터를 구성하는 방식.\n",
        "\n",
        "**배열**\n",
        "\n",
        "순서가 있는 묶음 단위의 값을 저장하는 자료구조로, 배열에 저장된 객체 하나하나를 원소라고 하며, 각 원소는 인덱스를 부여받는다. "
      ]
    },
    {
      "cell_type": "code",
      "metadata": {
        "id": "HkQMgxNmTH2a"
      },
      "source": [
        "#변수\n",
        "score1 = 100\n",
        "score2 = 90\n",
        "score3 = 70\n",
        "#배열 \n",
        "score = [100. 90. 70]"
      ],
      "execution_count": null,
      "outputs": []
    },
    {
      "cell_type": "markdown",
      "metadata": {
        "id": "jUMfUFoiU8Qm"
      },
      "source": [
        "# 리스트\n",
        "파이썬에서 배열 구현 방법"
      ]
    },
    {
      "cell_type": "markdown",
      "metadata": {
        "id": "ySwQc3RTVI-G"
      },
      "source": [
        "### 리스트는 원소를 변경 할 수 있는 **mutable** 객체이다. \n",
        "\n",
        "ex) [1, 2, 3] 혹은 빈 리스트 [ ]\n",
        "\n",
        " * 내장 함수 list()를 사용해 문자열, 튜플 등 다양한 자료형 객체를 원소로 하는 리스트 생성 가능"
      ]
    },
    {
      "cell_type": "code",
      "metadata": {
        "colab": {
          "base_uri": "https://localhost:8080/"
        },
        "id": "l-H6qk_fVzkg",
        "outputId": "6be7a0b4-731a-416d-99ce-09e9b36d08d2"
      },
      "source": [
        "list1 = []\n",
        "list2 = [1,2,3]\n",
        "list3 = ['a', 'b', 'c', ] #==['a', 'b', 'c']\n",
        "print(list1)\n",
        "print(list2)\n",
        "print(list3)"
      ],
      "execution_count": null,
      "outputs": [
        {
          "output_type": "stream",
          "name": "stdout",
          "text": [
            "[]\n",
            "[1, 2, 3]\n",
            "['a', 'b', 'c']\n"
          ]
        }
      ]
    },
    {
      "cell_type": "code",
      "metadata": {
        "colab": {
          "base_uri": "https://localhost:8080/"
        },
        "id": "QykXlo4XWN5X",
        "outputId": "c08bc717-4357-4970-f3e8-0733a2b748b0"
      },
      "source": [
        "#list()내장함수로 리스트 생성\n",
        "list4 = list()\n",
        "list5 = list('abc')\n",
        "list6 = list([1,2,3])\n",
        "list7 = list({1,2,3}) #집합set\n",
        "list8 = list((1,2,3)) #튜플\n",
        "print(list4)\n",
        "print(list5)\n",
        "print(list6)\n",
        "print(list7)\n",
        "print(list8)"
      ],
      "execution_count": null,
      "outputs": [
        {
          "output_type": "stream",
          "name": "stdout",
          "text": [
            "[]\n",
            "['a', 'b', 'c']\n",
            "[1, 2, 3]\n",
            "[1, 2, 3]\n",
            "[1, 2, 3]\n"
          ]
        }
      ]
    },
    {
      "cell_type": "markdown",
      "metadata": {
        "id": "4vLj95lgXDhg"
      },
      "source": [
        "\n",
        "*   range()함수와 조합 하여 리스트 생성 가능\n",
        "*   None을 사용해 원소값을 정하지 않고 크기만 정하여 리스트 생성 가능\n",
        "*  리스트간 *,  + 연산 지원. \n"
      ]
    },
    {
      "cell_type": "code",
      "metadata": {
        "colab": {
          "base_uri": "https://localhost:8080/"
        },
        "id": "LW2jz7oPXreC",
        "outputId": "62a4373b-f41b-48da-be2d-e03f0509a460"
      },
      "source": [
        "list9 = list(range(7)) #ragne(start, end)는 start~end-1\n",
        "list10 = list(range(3, 8))\n",
        "list11 = list(range(2, 10, 2))\n",
        "list12 = [None] * 5 #배열크기 1인 [None]리스트를 *5 복사 하여 만듦\n",
        "print(list9)\n",
        "print(list10)\n",
        "print(list11)\n",
        "print(list12)"
      ],
      "execution_count": null,
      "outputs": [
        {
          "output_type": "stream",
          "name": "stdout",
          "text": [
            "[0, 1, 2, 3, 4, 5, 6]\n",
            "[3, 4, 5, 6, 7]\n",
            "[2, 4, 6, 8]\n",
            "[None, None, None, None, None]\n"
          ]
        }
      ]
    },
    {
      "cell_type": "markdown",
      "metadata": {
        "id": "o7h-pxCjYxtg"
      },
      "source": [
        "*  내포 표기를 이용한 리스트 생성\n",
        "\n",
        "리스트 안에서 for , if 문을 사용하여 새로운 리스트를 생성하는 기법\n"
      ]
    },
    {
      "cell_type": "code",
      "metadata": {
        "colab": {
          "base_uri": "https://localhost:8080/"
        },
        "id": "2Em-ViiDY_Oy",
        "outputId": "d053a2fd-1a38-43ba-cab4-d3a906c07a57"
      },
      "source": [
        "numbers = [1, 2, 3, 4, 5]\n",
        "twice = [ num*2 for num in numbers if num%2==1 ]\n",
        "print(twice)\n",
        "#홀수인 수들을 두배 한 리스트"
      ],
      "execution_count": null,
      "outputs": [
        {
          "output_type": "stream",
          "name": "stdout",
          "text": [
            "[2, 6, 10]\n"
          ]
        }
      ]
    },
    {
      "cell_type": "markdown",
      "metadata": {
        "id": "xnyCRA5lZvq-"
      },
      "source": [
        "# 튜플"
      ]
    },
    {
      "cell_type": "markdown",
      "metadata": {
        "id": "FvPMY6DqaaBN"
      },
      "source": [
        "### 튜플은 원소에 순서를 매겨 결합한 이뮤터블 immutable 자료형이다. "
      ]
    },
    {
      "cell_type": "markdown",
      "metadata": {
        "id": "JpmPHvTlavxM"
      },
      "source": [
        "\n",
        "\n",
        "*   리스트[ ]와 달리 결합 연산( )자 생략 가능\n",
        "*   원소가 1개인 경우 단순 변수와 구분하기 위해 반드시 쉼표를 사용해야 함.\n",
        "*  () 만 사용하면 빈 튜플 생성\n",
        "\n"
      ]
    },
    {
      "cell_type": "code",
      "metadata": {
        "colab": {
          "base_uri": "https://localhost:8080/"
        },
        "id": "gN4Z_N1kbSQ4",
        "outputId": "6c4d0d5f-f05d-48a6-dd79-0786caa65e23"
      },
      "source": [
        "tuple1 = ()\n",
        "tuple2 = 1,\n",
        "tuple3 = (1, )\n",
        "tuple4 = 1, 2, 3\n",
        "tuple5 = 1, 2, 3, \n",
        "tuple6 = (1, 2, 3, )\n",
        "tuple7 = 'a', 'b', 'c'\n",
        "print(tuple1)\n",
        "print(tuple2)\n",
        "print(tuple3)\n",
        "print(tuple4)\n",
        "print(tuple5)\n",
        "print(tuple6)\n",
        "print(tuple7)\n",
        "\n",
        "print(\"아래는 둘다 int형 변수들 이다\")\n",
        "v1 = 1\n",
        "v2 = (1)\n",
        "print(v1)\n",
        "print(v2)\n"
      ],
      "execution_count": null,
      "outputs": [
        {
          "output_type": "stream",
          "name": "stdout",
          "text": [
            "()\n",
            "(1,)\n",
            "(1,)\n",
            "(1, 2, 3)\n",
            "(1, 2, 3)\n",
            "(1, 2, 3)\n",
            "('a', 'b', 'c')\n",
            "아래는 둘다 int형 변수들 이다\n",
            "1\n",
            "1\n"
          ]
        }
      ]
    },
    {
      "cell_type": "markdown",
      "metadata": {
        "id": "Mdj_WC0tcbMU"
      },
      "source": [
        "튜플도 리스트의 내장함수 list()처럼 내장함수 tuple()을 사용하여 문자열, 리스트 등 다른 여러 자료형 객체를 원소로 하는 튜플 생성 가능하다.\n",
        "\n",
        "또한 리스트와 마찬가지로 range()함수와 조합합하여 특정 범위의 정수로 구성된 튜플을 생성할 수 있다."
      ]
    },
    {
      "cell_type": "code",
      "metadata": {
        "colab": {
          "base_uri": "https://localhost:8080/"
        },
        "id": "ODT4Y_nQc2uK",
        "outputId": "60721b8c-8bac-4d17-83de-1687b44a4a68"
      },
      "source": [
        "tuple8 = tuple(range(1, 10, 3))\n",
        "print(tuple8)\n",
        "\n",
        "numbers = (1, 2, 3, 4, 5)\n",
        "tuple9 = tuple(num*10 for num in numbers if num%2==1)\n",
        "print(tuple9)"
      ],
      "execution_count": null,
      "outputs": [
        {
          "output_type": "stream",
          "name": "stdout",
          "text": [
            "(1, 4, 7)\n",
            "(10, 30, 50)\n"
          ]
        }
      ]
    },
    {
      "cell_type": "markdown",
      "metadata": {
        "id": "cZZ8zAT6eqAg"
      },
      "source": [
        "#리스트와 튜플 공통\n",
        "\n",
        "\n",
        "\n",
        "*   언팩 - 원소값들을 풀어 여러 변수에 대입\n",
        "*   배열 원소 접근 : 인덱스, 슬라이스\n",
        "\n"
      ]
    },
    {
      "cell_type": "code",
      "metadata": {
        "colab": {
          "base_uri": "https://localhost:8080/"
        },
        "id": "RnsFq55GfVLm",
        "outputId": "9a570c71-e922-40e3-f2a1-7f0b7783d1ba"
      },
      "source": [
        "#언팩\n",
        "\n",
        "x = [1, 2, 3]\n",
        "a, b, c = x\n",
        "a, b, c"
      ],
      "execution_count": null,
      "outputs": [
        {
          "output_type": "execute_result",
          "data": {
            "text/plain": [
              "(1, 2, 3)"
            ]
          },
          "metadata": {},
          "execution_count": 9
        }
      ]
    },
    {
      "cell_type": "markdown",
      "metadata": {
        "id": "xpKhoFNLfwk2"
      },
      "source": [
        "배열 원소에 접근하기\n",
        "\n",
        "\n",
        "*   인덱스 index\n",
        " \n",
        " 리스트나 튜플의 원소에 접근할 때 사용\n",
        "\n",
        " 인덱스식을 이용하여 원소에 접근\n",
        " 인덱스를 양수론 왼쪽부터는 0부터 1씩 증가하지만\n",
        "\n",
        " 음수 인덱스론 오른쪽부터 -1에서 -1씩 작아진다. \n",
        "\n",
        "  0   1   2   3   4   5 \n",
        "\n",
        "  -6 -5 -4 -3 -2 -1\n",
        "\n",
        "*   슬라이스 slice - 파이썬만 있는\n",
        "\n",
        "  리스트 또는 튜플의 일부를 연속해서 또는 일정한 간격으로 꺼내 새로운 리스트, 튜플을 만드는 것\n",
        "\n",
        "  슬라이스식 **str[i:l:k]**  str[i]부터 str[j-1]까지 k씩 건너뛰며 나열한다,\n",
        "\n",
        "  기존 원래 배열을 변경하지 않은 채로 만족하는 원소를 꺼내어 출력함\n",
        "\n"
      ]
    },
    {
      "cell_type": "markdown",
      "metadata": {
        "id": "ZgDXW6JIhf26"
      },
      "source": [
        "## 슬라이스 패턴\n",
        "\n",
        "\n",
        "\n",
        "```\n",
        " s[:]       #리스트 s의 모든 원소 출력\n",
        " s[:n]      #맨 앞에서 n개까지\n",
        " s[i:]      #i부터 끝까지\n",
        " s[-n:]     #끝에서n번째부터 끝까지\n",
        " s[::k]     #처음부터 끝까지 k씩 건너뛰며\n",
        " s[::-1]    #역순 reverse\n",
        "```\n",
        "\n"
      ]
    },
    {
      "cell_type": "code",
      "metadata": {
        "colab": {
          "base_uri": "https://localhost:8080/"
        },
        "id": "8-Y9nvmNgo1N",
        "outputId": "c8bd75fa-21db-411d-f3b4-6e3783ed5251"
      },
      "source": [
        "s = [11, 22, 33, 44, 55, 66, 77]\n",
        "print(s[0:6])\n",
        "print(s[0:7])\n",
        "print(s[0:7:2])\n",
        "print(s[-4:-2])\n",
        "print(s[3:1]) #범위를 초과하거나 없어도 오류가 나지 않는다. \n",
        "print(s[::-1])\n",
        " "
      ],
      "execution_count": null,
      "outputs": [
        {
          "output_type": "stream",
          "name": "stdout",
          "text": [
            "[11, 22, 33, 44, 55, 66]\n",
            "[11, 22, 33, 44, 55, 66, 77]\n",
            "[11, 33, 55, 77]\n",
            "[44, 55]\n",
            "[]\n",
            "[77, 66, 55, 44, 33, 22, 11]\n"
          ]
        }
      ]
    },
    {
      "cell_type": "markdown",
      "metadata": {
        "id": "01jX4Zmnki6M"
      },
      "source": [
        "## 배열과 관련한 주요 함수\n",
        "\n",
        "* len()   배열의 원소수(길이, 크기) 반환\n",
        "* min()   배열이 가진 최솟값을 반환 (배열 내 int float 끼리만 연산되어 반환됨 max()도 마찬가지)\n",
        "* max()   배열이 가진 원소중에 최댓값을 반환"
      ]
    },
    {
      "cell_type": "markdown",
      "metadata": {
        "id": "JEqxKioylec8"
      },
      "source": [
        "## 빈 배열 판단하기\n",
        "\n",
        "배열을 참조하는 변수를 조건식에 사용해 원소 유무 판단.\n",
        "배열이 비었다면 false반환\n",
        "\n",
        "\n",
        "\n",
        "```\n",
        "() = empty\n",
        "(None) = not empty\n",
        "len((None)) = 1임\n",
        "```\n",
        "\n"
      ]
    },
    {
      "cell_type": "code",
      "metadata": {
        "colab": {
          "base_uri": "https://localhost:8080/"
        },
        "id": "Z2GgLn6YmLjD",
        "outputId": "32840821-ed41-47ae-a565-2b7fa6e3faa7"
      },
      "source": [
        "list1 = []\n",
        "list2 = [1,2]\n",
        "list3 = [None]\n",
        "\n",
        "def isEmpty(list):\n",
        "  if list:\n",
        "    print(f\"이 리스트는 비어있지 않음 True 배열 길이는 {len(list)}\")\n",
        "  else:\n",
        "    print(f'이 리스트는 비어있음 False 배열 길이는 {len(list)}')\n",
        "\n",
        "isEmpty(list1)\n",
        "isEmpty(list2)\n",
        "isEmpty(list3)\n"
      ],
      "execution_count": null,
      "outputs": [
        {
          "output_type": "stream",
          "name": "stdout",
          "text": [
            "이 리스트는 비어있음 False 배열 길이는 0\n",
            "이 리스트는 비어있지 않음 True 배열 길이는 2\n",
            "이 리스트는 비어있지 않음 True 배열 길이는 1\n"
          ]
        }
      ]
    },
    {
      "cell_type": "markdown",
      "metadata": {
        "id": "O-LlmgPonlyJ"
      },
      "source": [
        "## 배열의 대소 또는 등가 관계 판단\n",
        "\n",
        "비교 연산자를 사용해 배열의 대소와 등가 관계를 판단\n",
        "* 맨 앞 원소부터 차례로 비교하면서 원소 값이 같으면 다음 원소 비교\n",
        "* 배열의 원소 수가 다른 경우 우너소 수가 많은 배열이 크다고 판단\n",
        "\n",
        "\n",
        "\n",
        "```\n",
        "[1, 2, 3] == [1, 2, 3]\n",
        "[1, 2, 3] < [1, 2, 4]\n",
        "[1, 2, 3, 4] <= [1, 2, 3, 4]\n",
        "[1, 2, 3] < [1, 2, 3, 5]\n",
        "[1, 2, 3] < [1, 2, 3, 5] < [1, 2, 3, 5, 6]\n",
        "[1, 2, 3] < [3, 2, 1] #첫번째 원소부터 차이나서 이후로 비교할 필요 없음\n",
        "[5] < [1, 2, 3 ] #원소 수가 다를 땐 많은 것이 큼\n",
        "```\n",
        "\n"
      ]
    },
    {
      "cell_type": "markdown",
      "metadata": {
        "id": "J9Ksp8QppGJ0"
      },
      "source": [
        "# 리스트와 튜플의 차이점 정리\n",
        "\n",
        "### 차이점\n",
        "크게 mutable객체와 immutable객체의 차이와 같다. 최초 생성 이후에 값 변경, 추가, 삭제 등이 가능하는가 아닌가 에 따른 차이..\n",
        "\n",
        "* 튜플은 immutable 객체이기 때문에 수정하거나 삭제를 할 수 없다. \n",
        "\n",
        "\n",
        "그래서 값이 변하지 않아야 하는 dictionary key는 튜플만 쓸 수 있다. \n",
        "\n",
        "\n",
        "리스트는 mutable객체로 원소값 변경이 되기 때문에 적합하지 못하다. \n",
        "\n",
        "* 인덱스 식과 슬라이스 식을 리스트, 튜플 둘다 사용 할 순 있지만, \n",
        "\n",
        "튜플의 경우 식이 좌변에 오는 경우는 불가능 하다. \n",
        "\n",
        "(값 변경 위한 목적으로 인덱스식 슬라이스식 쓰지 못하는 것)\n",
        "\n",
        "\n",
        "```\n",
        "#튜플일 경우 오류나는 문장들\n",
        "a(1) = 3\n",
        "a[1:3] = (10, 11)\n",
        "```\n",
        "\n",
        "\n",
        "\n",
        "\n"
      ]
    },
    {
      "cell_type": "code",
      "metadata": {
        "colab": {
          "base_uri": "https://localhost:8080/",
          "height": 134
        },
        "id": "2YQOZdNt9GkG",
        "outputId": "e3a2f070-90c4-43b9-cc20-92997df83f8e"
      },
      "source": [
        "#튜플 인덱스식 오류나는 경우\n",
        "t1 = (1, 2, 3, 4, 5)\n",
        "t1(3) = 10\n"
      ],
      "execution_count": null,
      "outputs": [
        {
          "output_type": "error",
          "ename": "SyntaxError",
          "evalue": "ignored",
          "traceback": [
            "\u001b[0;36m  File \u001b[0;32m\"<ipython-input-21-21bd3414a1ad>\"\u001b[0;36m, line \u001b[0;32m3\u001b[0m\n\u001b[0;31m    t1(3) = 10\u001b[0m\n\u001b[0m              ^\u001b[0m\n\u001b[0;31mSyntaxError\u001b[0m\u001b[0;31m:\u001b[0m can't assign to function call\n"
          ]
        }
      ]
    },
    {
      "cell_type": "code",
      "metadata": {
        "colab": {
          "base_uri": "https://localhost:8080/",
          "height": 222
        },
        "id": "zLtqd0lq9eL_",
        "outputId": "615c6cca-ca6b-4202-d8f8-d5505f486491"
      },
      "source": [
        "#튜플 슬라이스식 오류나는 경우\n",
        "a = (range(10))\n",
        "a[0:5] = 9, 8, 7, 6, 5\n",
        "a"
      ],
      "execution_count": null,
      "outputs": [
        {
          "output_type": "error",
          "ename": "TypeError",
          "evalue": "ignored",
          "traceback": [
            "\u001b[0;31m---------------------------------------------------------------------------\u001b[0m",
            "\u001b[0;31mTypeError\u001b[0m                                 Traceback (most recent call last)",
            "\u001b[0;32m<ipython-input-29-499d3bd4a61e>\u001b[0m in \u001b[0;36m<module>\u001b[0;34m()\u001b[0m\n\u001b[1;32m      1\u001b[0m \u001b[0;31m#튜플 슬라이스식 오류나는 경우\u001b[0m\u001b[0;34m\u001b[0m\u001b[0;34m\u001b[0m\u001b[0;34m\u001b[0m\u001b[0m\n\u001b[1;32m      2\u001b[0m \u001b[0ma\u001b[0m \u001b[0;34m=\u001b[0m \u001b[0;34m(\u001b[0m\u001b[0mrange\u001b[0m\u001b[0;34m(\u001b[0m\u001b[0;36m10\u001b[0m\u001b[0;34m)\u001b[0m\u001b[0;34m)\u001b[0m\u001b[0;34m\u001b[0m\u001b[0;34m\u001b[0m\u001b[0m\n\u001b[0;32m----> 3\u001b[0;31m \u001b[0ma\u001b[0m\u001b[0;34m[\u001b[0m\u001b[0;36m0\u001b[0m\u001b[0;34m:\u001b[0m\u001b[0;36m5\u001b[0m\u001b[0;34m]\u001b[0m \u001b[0;34m=\u001b[0m \u001b[0;36m9\u001b[0m\u001b[0;34m,\u001b[0m \u001b[0;36m8\u001b[0m\u001b[0;34m,\u001b[0m \u001b[0;36m7\u001b[0m\u001b[0;34m,\u001b[0m \u001b[0;36m6\u001b[0m\u001b[0;34m,\u001b[0m \u001b[0;36m5\u001b[0m\u001b[0;34m\u001b[0m\u001b[0;34m\u001b[0m\u001b[0m\n\u001b[0m\u001b[1;32m      4\u001b[0m \u001b[0ma\u001b[0m\u001b[0;34m\u001b[0m\u001b[0;34m\u001b[0m\u001b[0m\n",
            "\u001b[0;31mTypeError\u001b[0m: 'range' object does not support item assignment"
          ]
        }
      ]
    },
    {
      "cell_type": "code",
      "metadata": {
        "colab": {
          "base_uri": "https://localhost:8080/"
        },
        "id": "zHc417MG7pRC",
        "outputId": "b3321232-4d0b-4cdd-e398-979de1ce4933"
      },
      "source": [
        "#튜플과 리스트 += *= (연결, 반복)연산됨\n",
        "t1 = (1, 2, 3)\n",
        "t2 = (4, 5, 6)\n",
        "t1 += t2\n",
        "print(t1)\n",
        "t3 = t2*3\n",
        "print(t3)"
      ],
      "execution_count": null,
      "outputs": [
        {
          "output_type": "stream",
          "name": "stdout",
          "text": [
            "(1, 2, 3, 4, 5, 6)\n",
            "(4, 5, 6, 4, 5, 6, 4, 5, 6)\n"
          ]
        }
      ]
    },
    {
      "cell_type": "markdown",
      "metadata": {
        "id": "BV7vBmpJApMn"
      },
      "source": [
        "# 파이썬 변수"
      ]
    },
    {
      "cell_type": "markdown",
      "metadata": {
        "id": "9r0jzTTrDwj-"
      },
      "source": [
        "## 두 값 교환하기\n",
        "\n",
        "* 단일 대입문\n",
        "```\n",
        "a = 1\n",
        "b = 2\n",
        "a, b = b, a\n",
        "#순서\n",
        "a, b = (2, 1)\n",
        "a, b = 2, 1\n",
        "# a=2\n",
        "# b=1\n",
        "```\n",
        "\n",
        "\n",
        "1.   우변의 b, a에 의해 두 값을 압축한 (b, a)가 생성 \n",
        "2.   대입 시 튜플 (b, a)를 다시 풀어 b, a로 만든 다음 각각 a와 b에 대입\n",
        "\n",
        "\n",
        "\n"
      ]
    },
    {
      "cell_type": "code",
      "metadata": {
        "colab": {
          "base_uri": "https://localhost:8080/"
        },
        "id": "voO7nNT2FZdI",
        "outputId": "b0efc626-3251-40f6-8d14-42e2be32c865"
      },
      "source": [
        "a = 1\n",
        "b = 2\n",
        "a, b = b, a\n",
        "print(f'{a}  {b}')\n",
        "\n",
        "x = 1\n",
        "y = 2\n",
        "temp = 1\n",
        "x = y\n",
        "y = temp\n",
        "print(f'{x}  {y}')"
      ],
      "execution_count": null,
      "outputs": [
        {
          "output_type": "stream",
          "name": "stdout",
          "text": [
            "2  1\n",
            "2  1\n"
          ]
        }
      ]
    },
    {
      "cell_type": "markdown",
      "metadata": {
        "id": "2palh7MhF7vS"
      },
      "source": [
        "## 파이썬의 변수 (설명)"
      ]
    },
    {
      "cell_type": "markdown",
      "metadata": {
        "id": "hn3-S31eGGSf"
      },
      "source": [
        "### 모두 객체로 취급\n",
        "데이터, 함수, 클래스, 모듈, 패키지 등\n",
        "\n",
        "* 객체는 자료형을 가지며 메모리 공간을 차지한다. \n",
        "> 모든 객체는 메모리를 차지하고, 객체 식별번호를 가진다. (id: identity)\n",
        "* 파이썬에선 변수는 값을 갖지 않고, 그저 객체를 참조하는 연결된 이름에 불과하다. \n",
        "> ( =는 객체와 참조하는 변수이름을 결합 하는 것임)\n",
        "\n",
        "\n",
        "* 파이썬은 등가성, 동일성 비교를 한다. \n",
        "> 변수는 객체를 참조하는 것뿐이라 등가성(equality) 비교(==) 말고도 동일성(identity) 비교(is)를 할 때도 있다. \n",
        "\n",
        "  > 동일성 비교는 좌변과 우변 값이 같은지 비교함과 동시에 객체의 식별번호까지 비교한다, \n",
        "* 그래서 객체의 자료형이 무엇이든 간에 변수에 대입 가능하다. \n",
        "  > 변수에 값을 대입하면 값이 아니라 값을 참조하는 객체의 식별번호가 변경되기 때문이다. \n",
        "* 파이썬에선 =가 연산자가 아닌 명령문이다.\n",
        "  > ~가르키라는(바인딩) 명령문이라서, 다른 언어에서 a = b = 1처럼 결합연산자로 사용 못한다. a = (b=1)처럼되는데, 파이썬은  a=b=1이면 a=1 b=1바인딩 됨.\n",
        "\n",
        "* 파이썬은 변수의 값을 동시에 대입할 수 있다. 자료형을 선언하지 않아도 값을 대입하면 변수에 맞는 자료형을 자동으로 선언. \n",
        "x, y, z, = 1, 2, 3\n"
      ]
    },
    {
      "cell_type": "code",
      "metadata": {
        "colab": {
          "base_uri": "https://localhost:8080/"
        },
        "id": "3XuXdJGLNri2",
        "outputId": "e97f1280-4d3e-4c3e-f5ba-1d031889e212"
      },
      "source": [
        "#등가성과 동일성\n",
        "a = [1, 2, 3]\n",
        "b = a\n",
        "if(a == b):\n",
        "  print(\"a와 b는 같은 값이다.\")\n",
        "if(a is b):\n",
        "  print(\"a와 b는 동일하다.\")\n",
        "else:\n",
        "  print(\"a와 b는 동일하지 않다.\")\n",
        "\n",
        "b[1] = 10\n",
        "print(f\"배열 b의 인덱스1을 10으로 바꿨을 때 배열 a도 ->{a} 로 변한다\")\n",
        "\n",
        "\n",
        "print()\n",
        "c = [1, 2, 3]\n",
        "d = [1, 2, 3]\n",
        "if(c == d):\n",
        "  print(\"c와 d는 같은 값이다.\")\n",
        "if(c is d):\n",
        "  print(\"c와 d는 동일하다\")\n",
        "else:\n",
        "  print(\"c와 d는 동일하지 않다.\")\n",
        "print()\n",
        "\n",
        "\n",
        "#변수에 값을 대입하면 값이 아니라 값을 참조하는 객체의 식별번호가 변경\n",
        "n = 5\n",
        "print(id(n))\n",
        "n = 'ABC'\n",
        "print(id(n))"
      ],
      "execution_count": null,
      "outputs": [
        {
          "output_type": "stream",
          "name": "stdout",
          "text": [
            "a와 b는 같은 값이다.\n",
            "a와 b는 동일하다.\n",
            "배열 b의 인덱스1을 10으로 바꿨을 때 배열 a도 ->[1, 10, 3] 로 변한다\n",
            "\n",
            "c와 d는 같은 값이다.\n",
            "c와 d는 동일하지 않다.\n",
            "\n",
            "94663785982592\n",
            "139966790769520\n"
          ]
        }
      ]
    },
    {
      "cell_type": "markdown",
      "metadata": {
        "id": "ld1EL7FoRme3"
      },
      "source": [
        "## 뮤터블 객체와 이뮤터블 객체\n",
        "\n",
        "**mutable 뮤터블 객체**\n",
        "\n",
        "\n",
        "*   변경이 가능한 객체\n",
        "*   최소 생성 이후 자유롭게 값의 변경, 추가, 삭제 등이 가능\n",
        "*   int, float 형 기본 변수, 사용자 정의 클래스, list, dictionary, set자료형\n",
        "\n",
        "**immutable 이뮤터블 객체**\n",
        "\n",
        "\n",
        "*   변경이 불가능한 객체\n",
        "*   최소 생성 이후에 값 변경이 불가능\n",
        "*   숫자, 불리언, 문자열, dictionary-key, tuple 자료형\n",
        "\n"
      ]
    }
  ]
}